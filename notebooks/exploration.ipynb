{
 "cells": [
  {
   "cell_type": "markdown",
   "metadata": {},
   "source": [
    "### Análise Exploratória dos Dados Processados e Configuração de Embeddings com FAISS e SentenceTransformers ###"
   ]
  },
  {
   "cell_type": "code",
   "execution_count": 3,
   "metadata": {},
   "outputs": [],
   "source": [
    "import os\n",
    "import pandas as pd\n",
    "import matplotlib.pyplot as plt\n",
    "from sentence_transformers import SentenceTransformer\n",
    "import faiss"
   ]
  },
  {
   "cell_type": "code",
   "execution_count": 4,
   "metadata": {},
   "outputs": [],
   "source": [
    "# Caminhos dos arquivos processados\n",
    "\n",
    "base_dir = r\"D:\\bases_gen_ai\"\n",
    "train_file = os.path.join(base_dir, \"processed\", \"cleaned_dataset_train.csv\")\n",
    "dev_file = os.path.join(base_dir, \"processed\", \"cleaned_dataset_dev.csv\")"
   ]
  },
  {
   "cell_type": "code",
   "execution_count": 5,
   "metadata": {},
   "outputs": [],
   "source": [
    "# Função para carregar e exibir informações sobre o dataset\n",
    "def load_and_inspect(file_path):\n",
    "    print(f\"Carregando dados de: {file_path}\\n\")\n",
    "    df = pd.read_csv(file_path)\n",
    "    print(\"Primeiras linhas do dataset:\\n\")\n",
    "    print(df.head())\n",
    "    print(\"\\nInformações gerais do dataset:\\n\")\n",
    "    print(df.info())\n",
    "    print(\"\\nEstatísticas descritivas:\\n\")\n",
    "    print(df.describe(include='all'))\n",
    "    return df"
   ]
  },
  {
   "cell_type": "code",
   "execution_count": 6,
   "metadata": {},
   "outputs": [
    {
     "name": "stdout",
     "output_type": "stream",
     "text": [
      "Carregando dados de: D:\\bases_gen_ai\\processed\\cleaned_dataset_train.csv\n",
      "\n",
      "Primeiras linhas do dataset:\n",
      "\n",
      "                                            question answer\n",
      "0  which is the most common use of opt-in e-mail ...    NaN\n",
      "1            how i.met your mother who is the mother    NaN\n",
      "2   what type of fertilisation takes place in humans    NaN\n",
      "3                   who had the most wins in the nfl    NaN\n",
      "4    what happened to the lost settlement of roanoke    NaN\n",
      "\n",
      "Informações gerais do dataset:\n",
      "\n",
      "<class 'pandas.core.frame.DataFrame'>\n",
      "RangeIndex: 1000 entries, 0 to 999\n",
      "Data columns (total 2 columns):\n",
      " #   Column    Non-Null Count  Dtype \n",
      "---  ------    --------------  ----- \n",
      " 0   question  1000 non-null   object\n",
      " 1   answer    13 non-null     object\n",
      "dtypes: object(2)\n",
      "memory usage: 15.8+ KB\n",
      "None\n",
      "\n",
      "Estatísticas descritivas:\n",
      "\n",
      "                                                 question answer\n",
      "count                                                1000     13\n",
      "unique                                               1000      2\n",
      "top     which is the most common use of opt-in e-mail ...    YES\n",
      "freq                                                    1      8\n",
      "Carregando dados de: D:\\bases_gen_ai\\processed\\cleaned_dataset_dev.csv\n",
      "\n",
      "Primeiras linhas do dataset:\n",
      "\n",
      "                          question answer\n",
      "0  what do the 3 dots mean in math    NaN\n",
      "1  what do the 3 dots mean in math    NaN\n",
      "2  what do the 3 dots mean in math    NaN\n",
      "3  what do the 3 dots mean in math    NaN\n",
      "4  what do the 3 dots mean in math    NaN\n",
      "\n",
      "Informações gerais do dataset:\n",
      "\n",
      "<class 'pandas.core.frame.DataFrame'>\n",
      "RangeIndex: 2500 entries, 0 to 2499\n",
      "Data columns (total 2 columns):\n",
      " #   Column    Non-Null Count  Dtype \n",
      "---  ------    --------------  ----- \n",
      " 0   question  2500 non-null   object\n",
      " 1   answer    45 non-null     object\n",
      "dtypes: object(2)\n",
      "memory usage: 39.2+ KB\n",
      "None\n",
      "\n",
      "Estatísticas descritivas:\n",
      "\n",
      "                               question answer\n",
      "count                              2500     45\n",
      "unique                              500      2\n",
      "top     what do the 3 dots mean in math     NO\n",
      "freq                                  5     29\n"
     ]
    }
   ],
   "source": [
    "# Carregar os datasets\n",
    "train_data = load_and_inspect(train_file)\n",
    "dev_data = load_and_inspect(dev_file)"
   ]
  },
  {
   "cell_type": "code",
   "execution_count": 7,
   "metadata": {},
   "outputs": [
    {
     "name": "stdout",
     "output_type": "stream",
     "text": [
      "Carregando o modelo de embeddings: all-MiniLM-L6-v2\n",
      "\n"
     ]
    },
    {
     "data": {
      "application/vnd.jupyter.widget-view+json": {
       "model_id": "ab65b314e1e046329fc2effbacb42d7e",
       "version_major": 2,
       "version_minor": 0
      },
      "text/plain": [
       "modules.json:   0%|          | 0.00/349 [00:00<?, ?B/s]"
      ]
     },
     "metadata": {},
     "output_type": "display_data"
    },
    {
     "name": "stderr",
     "output_type": "stream",
     "text": [
      "c:\\Users\\cezar\\anaconda3\\envs\\generative-ai-rag\\lib\\site-packages\\huggingface_hub\\file_download.py:140: UserWarning: `huggingface_hub` cache-system uses symlinks by default to efficiently store duplicated files but your machine does not support them in C:\\Users\\cezar\\.cache\\huggingface\\hub\\models--sentence-transformers--all-MiniLM-L6-v2. Caching files will still work but in a degraded version that might require more space on your disk. This warning can be disabled by setting the `HF_HUB_DISABLE_SYMLINKS_WARNING` environment variable. For more details, see https://huggingface.co/docs/huggingface_hub/how-to-cache#limitations.\n",
      "To support symlinks on Windows, you either need to activate Developer Mode or to run Python as an administrator. In order to activate developer mode, see this article: https://docs.microsoft.com/en-us/windows/apps/get-started/enable-your-device-for-development\n",
      "  warnings.warn(message)\n"
     ]
    },
    {
     "data": {
      "application/vnd.jupyter.widget-view+json": {
       "model_id": "d35ba31a95a24ea2a1e0f1b26caeec0e",
       "version_major": 2,
       "version_minor": 0
      },
      "text/plain": [
       "config_sentence_transformers.json:   0%|          | 0.00/116 [00:00<?, ?B/s]"
      ]
     },
     "metadata": {},
     "output_type": "display_data"
    },
    {
     "data": {
      "application/vnd.jupyter.widget-view+json": {
       "model_id": "f4c3dcada2eb44eaa540f51d5085bec4",
       "version_major": 2,
       "version_minor": 0
      },
      "text/plain": [
       "README.md:   0%|          | 0.00/10.7k [00:00<?, ?B/s]"
      ]
     },
     "metadata": {},
     "output_type": "display_data"
    },
    {
     "data": {
      "application/vnd.jupyter.widget-view+json": {
       "model_id": "4e20bcba0f4f419eb4146bc10b0c6814",
       "version_major": 2,
       "version_minor": 0
      },
      "text/plain": [
       "sentence_bert_config.json:   0%|          | 0.00/53.0 [00:00<?, ?B/s]"
      ]
     },
     "metadata": {},
     "output_type": "display_data"
    },
    {
     "data": {
      "application/vnd.jupyter.widget-view+json": {
       "model_id": "58b960b635724d2989534aa6ad3d5c12",
       "version_major": 2,
       "version_minor": 0
      },
      "text/plain": [
       "config.json:   0%|          | 0.00/612 [00:00<?, ?B/s]"
      ]
     },
     "metadata": {},
     "output_type": "display_data"
    },
    {
     "data": {
      "application/vnd.jupyter.widget-view+json": {
       "model_id": "766421bfcff744ba95ce43136fa0eb39",
       "version_major": 2,
       "version_minor": 0
      },
      "text/plain": [
       "model.safetensors:   0%|          | 0.00/90.9M [00:00<?, ?B/s]"
      ]
     },
     "metadata": {},
     "output_type": "display_data"
    },
    {
     "data": {
      "application/vnd.jupyter.widget-view+json": {
       "model_id": "a8ff6df41f5649d0b3dded241ff57a43",
       "version_major": 2,
       "version_minor": 0
      },
      "text/plain": [
       "tokenizer_config.json:   0%|          | 0.00/350 [00:00<?, ?B/s]"
      ]
     },
     "metadata": {},
     "output_type": "display_data"
    },
    {
     "data": {
      "application/vnd.jupyter.widget-view+json": {
       "model_id": "344d2d6548a84678830168e2dd8adca1",
       "version_major": 2,
       "version_minor": 0
      },
      "text/plain": [
       "vocab.txt:   0%|          | 0.00/232k [00:00<?, ?B/s]"
      ]
     },
     "metadata": {},
     "output_type": "display_data"
    },
    {
     "data": {
      "application/vnd.jupyter.widget-view+json": {
       "model_id": "bc0d1d00a47f4560a13c3f0ce5334e89",
       "version_major": 2,
       "version_minor": 0
      },
      "text/plain": [
       "tokenizer.json:   0%|          | 0.00/466k [00:00<?, ?B/s]"
      ]
     },
     "metadata": {},
     "output_type": "display_data"
    },
    {
     "data": {
      "application/vnd.jupyter.widget-view+json": {
       "model_id": "2f86056977a242aa9faf3e0dac5819da",
       "version_major": 2,
       "version_minor": 0
      },
      "text/plain": [
       "special_tokens_map.json:   0%|          | 0.00/112 [00:00<?, ?B/s]"
      ]
     },
     "metadata": {},
     "output_type": "display_data"
    },
    {
     "data": {
      "application/vnd.jupyter.widget-view+json": {
       "model_id": "7677ebd355654ed6bb93d199c56617c2",
       "version_major": 2,
       "version_minor": 0
      },
      "text/plain": [
       "1_Pooling/config.json:   0%|          | 0.00/190 [00:00<?, ?B/s]"
      ]
     },
     "metadata": {},
     "output_type": "display_data"
    }
   ],
   "source": [
    "# Configuração do modelo de embeddings\n",
    "model_name = \"all-MiniLM-L6-v2\"  # Modelo SentenceTransformers\n",
    "print(f\"Carregando o modelo de embeddings: {model_name}\\n\")\n",
    "model = SentenceTransformer(model_name)"
   ]
  },
  {
   "cell_type": "code",
   "execution_count": 8,
   "metadata": {},
   "outputs": [],
   "source": [
    "# Geração de embeddings\n",
    "def generate_embeddings(df, column=\"question\"):\n",
    "    print(f\"Gerando embeddings para a coluna: {column}\\n\")\n",
    "    embeddings = model.encode(df[column].tolist(), show_progress_bar=True)\n",
    "    print(f\"Embeddings gerados: {embeddings.shape}\\n\")\n",
    "    return embeddings"
   ]
  },
  {
   "cell_type": "code",
   "execution_count": 9,
   "metadata": {},
   "outputs": [
    {
     "name": "stdout",
     "output_type": "stream",
     "text": [
      "Gerando embeddings para a coluna: question\n",
      "\n"
     ]
    },
    {
     "data": {
      "application/vnd.jupyter.widget-view+json": {
       "model_id": "d843b0e8e9094a4faeffb11dace48e92",
       "version_major": 2,
       "version_minor": 0
      },
      "text/plain": [
       "Batches:   0%|          | 0/32 [00:00<?, ?it/s]"
      ]
     },
     "metadata": {},
     "output_type": "display_data"
    },
    {
     "name": "stdout",
     "output_type": "stream",
     "text": [
      "Embeddings gerados: (1000, 384)\n",
      "\n",
      "Gerando embeddings para a coluna: question\n",
      "\n"
     ]
    },
    {
     "data": {
      "application/vnd.jupyter.widget-view+json": {
       "model_id": "5cc74bfaee6e4b24a715666bc8338ba9",
       "version_major": 2,
       "version_minor": 0
      },
      "text/plain": [
       "Batches:   0%|          | 0/79 [00:00<?, ?it/s]"
      ]
     },
     "metadata": {},
     "output_type": "display_data"
    },
    {
     "name": "stdout",
     "output_type": "stream",
     "text": [
      "Embeddings gerados: (2500, 384)\n",
      "\n"
     ]
    }
   ],
   "source": [
    "# Gerar embeddings para os conjuntos de treino e validação\n",
    "train_embeddings = generate_embeddings(train_data, column=\"question\")\n",
    "dev_embeddings = generate_embeddings(dev_data, column=\"question\")"
   ]
  },
  {
   "cell_type": "code",
   "execution_count": 10,
   "metadata": {},
   "outputs": [],
   "source": [
    "# Configuração do FAISS\n",
    "def create_faiss_index(embeddings):\n",
    "    print(\"Criando o índice FAISS...\\n\")\n",
    "    dimension = embeddings.shape[1]\n",
    "    index = faiss.IndexFlatL2(dimension)  # Index baseado em distância Euclidiana\n",
    "    index.add(embeddings)  # Adicionar embeddings ao índice\n",
    "    print(f\"Índice criado com {index.ntotal} embeddings.\\n\")\n",
    "    return index"
   ]
  },
  {
   "cell_type": "code",
   "execution_count": 11,
   "metadata": {},
   "outputs": [
    {
     "name": "stdout",
     "output_type": "stream",
     "text": [
      "Criando o índice FAISS...\n",
      "\n",
      "Índice criado com 1000 embeddings.\n",
      "\n"
     ]
    }
   ],
   "source": [
    "# Criar índice para o conjunto de treino\n",
    "train_index = create_faiss_index(train_embeddings)"
   ]
  },
  {
   "cell_type": "code",
   "execution_count": 12,
   "metadata": {},
   "outputs": [],
   "source": [
    "# Função de busca no FAISS\n",
    "def search_faiss(index, query, k=5):\n",
    "    print(f\"Buscando as top-{k} respostas para a query: {query}\\n\")\n",
    "    query_embedding = model.encode([query])\n",
    "    distances, indices = index.search(query_embedding, k)\n",
    "    return distances, indices"
   ]
  },
  {
   "cell_type": "code",
   "execution_count": 13,
   "metadata": {},
   "outputs": [
    {
     "name": "stdout",
     "output_type": "stream",
     "text": [
      "Buscando as top-5 respostas para a query: What is the capital of France?\n",
      "\n",
      "Distâncias: [[1.0836515 1.2290003 1.3163954 1.3551905 1.3583767]]\n",
      "Índices: [[933 778  19 205 813]]\n"
     ]
    }
   ],
   "source": [
    "# Exemplo de busca\n",
    "query = \"What is the capital of France?\"\n",
    "distances, indices = search_faiss(train_index, query)\n",
    "print(\"Distâncias:\", distances)\n",
    "print(\"Índices:\", indices)"
   ]
  },
  {
   "cell_type": "code",
   "execution_count": 14,
   "metadata": {},
   "outputs": [],
   "source": [
    "# Visualizar a distribuição das respostas\n",
    "def analyze_answers(df, title=\"Distribuição das Respostas\"):\n",
    "    print(\"\\nAnalisando a distribuição das respostas:\\n\")\n",
    "    answer_counts = df[\"answer\"].value_counts()\n",
    "    print(answer_counts)\n",
    "\n",
    "    # Gráfico de barras\n",
    "    answer_counts.plot(kind=\"bar\", figsize=(10, 6))\n",
    "    plt.title(title)\n",
    "    plt.xlabel(\"Respostas\")\n",
    "    plt.ylabel(\"Frequência\")\n",
    "    plt.show()"
   ]
  },
  {
   "cell_type": "code",
   "execution_count": 15,
   "metadata": {},
   "outputs": [
    {
     "name": "stdout",
     "output_type": "stream",
     "text": [
      "\n",
      "Analisando a distribuição das respostas:\n",
      "\n",
      "answer\n",
      "YES    8\n",
      "NO     5\n",
      "Name: count, dtype: int64\n"
     ]
    },
    {
     "data": {
      "image/png": "[encoded data removed]",
      "text/plain": [
       "<Figure size 1000x600 with 1 Axes>"
      ]
     },
     "metadata": {},
     "output_type": "display_data"
    },
    {
     "name": "stdout",
     "output_type": "stream",
     "text": [
      "\n",
      "Analisando a distribuição das respostas:\n",
      "\n",
      "answer\n",
      "NO     29\n",
      "YES    16\n",
      "Name: count, dtype: int64\n"
     ]
    },
    {
     "data": {
      "image/png": "[encoded data removed]",
      "text/plain": [
       "<Figure size 1000x600 with 1 Axes>"
      ]
     },
     "metadata": {},
     "output_type": "display_data"
    }
   ],
   "source": [
    "# Visualizar a distribuição das respostas\n",
    "analyze_answers(train_data, title=\"Distribuição das Respostas - Treino\")\n",
    "analyze_answers(dev_data, title=\"Distribuição das Respostas - Validação\")"
   ]
  }
 ],
 "metadata": {
  "kernelspec": {
   "display_name": "Python (generative-ai-rag)",
   "language": "python",
   "name": "generative-ai-rag"
  },
  "language_info": {
   "codemirror_mode": {
    "name": "ipython",
    "version": 3
   },
   "file_extension": ".py",
   "mimetype": "text/x-python",
   "name": "python",
   "nbconvert_exporter": "python",
   "pygments_lexer": "ipython3",
   "version": "3.9.21"
  }
 },
 "nbformat": 4,
 "nbformat_minor": 2
}
